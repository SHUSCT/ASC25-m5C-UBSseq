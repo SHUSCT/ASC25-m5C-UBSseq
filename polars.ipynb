{
 "cells": [
  {
   "cell_type": "code",
   "execution_count": 1,
   "metadata": {},
   "outputs": [
    {
     "name": "stderr",
     "output_type": "stream",
     "text": [
      "/tmp/ipykernel_36602/2397765077.py:4: DeprecationWarning: The argument `dtypes` for `read_csv` is deprecated. It has been renamed to `schema_overrides`.\n",
      "  m5c_candidates = pl.read_csv(file_name + \"/\" + file_name + \".filtered.tsv\",\n"
     ]
    }
   ],
   "source": [
    "import polars as pl\n",
    "file_name=\"SRR23538290\"\n",
    "def fitter(file_name):\n",
    "    m5c_candidates = pl.read_csv(file_name + \"/\" + file_name + \".filtered.tsv\",\n",
    "                                separator=\"\\t\",\n",
    "                                dtypes={\n",
    "                                    \"ref\": pl.Utf8,\n",
    "                                    \"pos\": pl.Int64,\n",
    "                                    \"strand\": pl.Utf8\n",
    "                                },)\n",
    "    passed_candidates = m5c_candidates.filter(pl.col(\"passed\") == True)\n",
    "    passed_candidates.write_csv(\"passed_\" + file_name + \".tsv\", separator=\"\\t\", include_header=True)\n",
    "    return passed_candidates\n",
    "\n",
    "all_passed_candidates = pl.DataFrame()\n",
    "\n",
    "for file_name in [\"SRR23538290\", \"SRR23538291\", \"SRR23538292\"]:\n",
    "    passed_candidates = fitter(file_name)"
   ]
  }
 ],
 "metadata": {
  "kernelspec": {
   "display_name": "Python 3",
   "language": "python",
   "name": "python3"
  },
  "language_info": {
   "codemirror_mode": {
    "name": "ipython",
    "version": 3
   },
   "file_extension": ".py",
   "mimetype": "text/x-python",
   "name": "python",
   "nbconvert_exporter": "python",
   "pygments_lexer": "ipython3",
   "version": "3.12.8"
  }
 },
 "nbformat": 4,
 "nbformat_minor": 2
}
